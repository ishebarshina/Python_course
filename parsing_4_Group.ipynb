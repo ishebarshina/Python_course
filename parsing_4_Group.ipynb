{
 "cells": [
  {
   "cell_type": "code",
   "execution_count": 114,
   "metadata": {},
   "outputs": [],
   "source": [
    "import pandas as pd\n",
    "import matplotlib.pyplot as plt\n",
    "from sklearn.linear_model import LinearRegression\n",
    "import numpy as np"
   ]
  },
  {
   "cell_type": "code",
   "execution_count": 115,
   "metadata": {},
   "outputs": [],
   "source": [
    "data = pd.read_csv(\"https://video.ittensive.com/python-advanced/data-9753-2019-07-25.utf.csv\", sep=';')"
   ]
  },
  {
   "cell_type": "code",
   "execution_count": 116,
   "metadata": {},
   "outputs": [
    {
     "data": {
      "text/html": [
       "<div>\n",
       "<style scoped>\n",
       "    .dataframe tbody tr th:only-of-type {\n",
       "        vertical-align: middle;\n",
       "    }\n",
       "\n",
       "    .dataframe tbody tr th {\n",
       "        vertical-align: top;\n",
       "    }\n",
       "\n",
       "    .dataframe thead th {\n",
       "        text-align: right;\n",
       "    }\n",
       "</style>\n",
       "<table border=\"1\" class=\"dataframe\">\n",
       "  <thead>\n",
       "    <tr style=\"text-align: right;\">\n",
       "      <th></th>\n",
       "      <th>global_id</th>\n",
       "      <th>ID</th>\n",
       "      <th>Year</th>\n",
       "      <th>UnemployedMen</th>\n",
       "      <th>UnemployedWomen</th>\n",
       "      <th>UnemployedYoung</th>\n",
       "      <th>UnemployedDisabled</th>\n",
       "      <th>UnemployedTotal</th>\n",
       "      <th>Period</th>\n",
       "      <th>Unnamed: 9</th>\n",
       "    </tr>\n",
       "  </thead>\n",
       "  <tbody>\n",
       "    <tr>\n",
       "      <th>0</th>\n",
       "      <td>39809862</td>\n",
       "      <td>1</td>\n",
       "      <td>2001</td>\n",
       "      <td>8896</td>\n",
       "      <td>25762</td>\n",
       "      <td>6696</td>\n",
       "      <td>824</td>\n",
       "      <td>34658</td>\n",
       "      <td>Декабрь</td>\n",
       "      <td>NaN</td>\n",
       "    </tr>\n",
       "    <tr>\n",
       "      <th>1</th>\n",
       "      <td>64592413</td>\n",
       "      <td>3</td>\n",
       "      <td>2003</td>\n",
       "      <td>8679</td>\n",
       "      <td>24967</td>\n",
       "      <td>6226</td>\n",
       "      <td>1155</td>\n",
       "      <td>33646</td>\n",
       "      <td>Декабрь</td>\n",
       "      <td>NaN</td>\n",
       "    </tr>\n",
       "    <tr>\n",
       "      <th>2</th>\n",
       "      <td>64592414</td>\n",
       "      <td>4</td>\n",
       "      <td>2004</td>\n",
       "      <td>9822</td>\n",
       "      <td>25239</td>\n",
       "      <td>7318</td>\n",
       "      <td>1411</td>\n",
       "      <td>35061</td>\n",
       "      <td>Декабрь</td>\n",
       "      <td>NaN</td>\n",
       "    </tr>\n",
       "    <tr>\n",
       "      <th>3</th>\n",
       "      <td>64592415</td>\n",
       "      <td>5</td>\n",
       "      <td>2005</td>\n",
       "      <td>10844</td>\n",
       "      <td>23597</td>\n",
       "      <td>6890</td>\n",
       "      <td>1531</td>\n",
       "      <td>34441</td>\n",
       "      <td>Декабрь</td>\n",
       "      <td>NaN</td>\n",
       "    </tr>\n",
       "    <tr>\n",
       "      <th>4</th>\n",
       "      <td>64592416</td>\n",
       "      <td>6</td>\n",
       "      <td>2006</td>\n",
       "      <td>11041</td>\n",
       "      <td>22928</td>\n",
       "      <td>6604</td>\n",
       "      <td>1671</td>\n",
       "      <td>33969</td>\n",
       "      <td>Декабрь</td>\n",
       "      <td>NaN</td>\n",
       "    </tr>\n",
       "  </tbody>\n",
       "</table>\n",
       "</div>"
      ],
      "text/plain": [
       "   global_id  ID  Year  UnemployedMen  UnemployedWomen  UnemployedYoung  \\\n",
       "0   39809862   1  2001           8896            25762             6696   \n",
       "1   64592413   3  2003           8679            24967             6226   \n",
       "2   64592414   4  2004           9822            25239             7318   \n",
       "3   64592415   5  2005          10844            23597             6890   \n",
       "4   64592416   6  2006          11041            22928             6604   \n",
       "\n",
       "   UnemployedDisabled  UnemployedTotal   Period  Unnamed: 9  \n",
       "0                 824            34658  Декабрь         NaN  \n",
       "1                1155            33646  Декабрь         NaN  \n",
       "2                1411            35061  Декабрь         NaN  \n",
       "3                1531            34441  Декабрь         NaN  \n",
       "4                1671            33969  Декабрь         NaN  "
      ]
     },
     "execution_count": 116,
     "metadata": {},
     "output_type": "execute_result"
    }
   ],
   "source": [
    "data.head()"
   ]
  },
  {
   "cell_type": "markdown",
   "metadata": {},
   "source": [
    "# Задание\n",
    "Сгруппируйте данные по годам, если в году меньше 6 значений, отбросьте эти годы.\n",
    "\n",
    "Постройте модель линейной регрессии по годам среднего значения отношения UnemployedDisabled к UnemployedTotal (процента людей с ограниченными возможностями) за месяц и ответьте, какое ожидается значение процента безработных инвалидов в 2020 году при сохранении текущей политики города Москвы?\n",
    "\n",
    "Ответ округлите до сотых. Например, 2,32\n",
    "Вопросы к этому заданию\n",
    "\n",
    "Какое ожидается значение в 2020 году при сохранении текущей политики города Москвы?"
   ]
  },
  {
   "cell_type": "markdown",
   "metadata": {},
   "source": [
    "### Если в году меньше 6 значений, отбросьте эти годы"
   ]
  },
  {
   "cell_type": "code",
   "execution_count": 117,
   "metadata": {},
   "outputs": [
    {
     "data": {
      "text/html": [
       "<div>\n",
       "<style scoped>\n",
       "    .dataframe tbody tr th:only-of-type {\n",
       "        vertical-align: middle;\n",
       "    }\n",
       "\n",
       "    .dataframe tbody tr th {\n",
       "        vertical-align: top;\n",
       "    }\n",
       "\n",
       "    .dataframe thead th {\n",
       "        text-align: right;\n",
       "    }\n",
       "</style>\n",
       "<table border=\"1\" class=\"dataframe\">\n",
       "  <thead>\n",
       "    <tr style=\"text-align: right;\">\n",
       "      <th></th>\n",
       "      <th>global_id</th>\n",
       "      <th>ID</th>\n",
       "      <th>Year</th>\n",
       "      <th>UnemployedMen</th>\n",
       "      <th>UnemployedWomen</th>\n",
       "      <th>UnemployedYoung</th>\n",
       "      <th>UnemployedDisabled</th>\n",
       "      <th>UnemployedTotal</th>\n",
       "      <th>Period</th>\n",
       "      <th>Unnamed: 9</th>\n",
       "    </tr>\n",
       "  </thead>\n",
       "  <tbody>\n",
       "    <tr>\n",
       "      <th>10</th>\n",
       "      <td>64592422</td>\n",
       "      <td>13</td>\n",
       "      <td>2012</td>\n",
       "      <td>17906</td>\n",
       "      <td>23266</td>\n",
       "      <td>6237</td>\n",
       "      <td>1697</td>\n",
       "      <td>41172</td>\n",
       "      <td>Февраль</td>\n",
       "      <td>NaN</td>\n",
       "    </tr>\n",
       "    <tr>\n",
       "      <th>12</th>\n",
       "      <td>273573575</td>\n",
       "      <td>12</td>\n",
       "      <td>2012</td>\n",
       "      <td>18012</td>\n",
       "      <td>23806</td>\n",
       "      <td>6413</td>\n",
       "      <td>1734</td>\n",
       "      <td>41818</td>\n",
       "      <td>Январь</td>\n",
       "      <td>NaN</td>\n",
       "    </tr>\n",
       "    <tr>\n",
       "      <th>13</th>\n",
       "      <td>273573576</td>\n",
       "      <td>14</td>\n",
       "      <td>2012</td>\n",
       "      <td>17357</td>\n",
       "      <td>22485</td>\n",
       "      <td>5929</td>\n",
       "      <td>1659</td>\n",
       "      <td>39842</td>\n",
       "      <td>Март</td>\n",
       "      <td>NaN</td>\n",
       "    </tr>\n",
       "    <tr>\n",
       "      <th>14</th>\n",
       "      <td>273573577</td>\n",
       "      <td>15</td>\n",
       "      <td>2012</td>\n",
       "      <td>16886</td>\n",
       "      <td>21839</td>\n",
       "      <td>5777</td>\n",
       "      <td>1558</td>\n",
       "      <td>38725</td>\n",
       "      <td>Апрель</td>\n",
       "      <td>NaN</td>\n",
       "    </tr>\n",
       "    <tr>\n",
       "      <th>15</th>\n",
       "      <td>273573578</td>\n",
       "      <td>16</td>\n",
       "      <td>2012</td>\n",
       "      <td>15650</td>\n",
       "      <td>20411</td>\n",
       "      <td>5179</td>\n",
       "      <td>1449</td>\n",
       "      <td>36061</td>\n",
       "      <td>Май</td>\n",
       "      <td>NaN</td>\n",
       "    </tr>\n",
       "    <tr>\n",
       "      <th>...</th>\n",
       "      <td>...</td>\n",
       "      <td>...</td>\n",
       "      <td>...</td>\n",
       "      <td>...</td>\n",
       "      <td>...</td>\n",
       "      <td>...</td>\n",
       "      <td>...</td>\n",
       "      <td>...</td>\n",
       "      <td>...</td>\n",
       "      <td>...</td>\n",
       "    </tr>\n",
       "    <tr>\n",
       "      <th>96</th>\n",
       "      <td>918869066</td>\n",
       "      <td>101</td>\n",
       "      <td>2019</td>\n",
       "      <td>13123</td>\n",
       "      <td>16904</td>\n",
       "      <td>3103</td>\n",
       "      <td>575</td>\n",
       "      <td>30027</td>\n",
       "      <td>Февраль</td>\n",
       "      <td>NaN</td>\n",
       "    </tr>\n",
       "    <tr>\n",
       "      <th>97</th>\n",
       "      <td>918869067</td>\n",
       "      <td>102</td>\n",
       "      <td>2019</td>\n",
       "      <td>13433</td>\n",
       "      <td>17164</td>\n",
       "      <td>3102</td>\n",
       "      <td>593</td>\n",
       "      <td>30597</td>\n",
       "      <td>Март</td>\n",
       "      <td>NaN</td>\n",
       "    </tr>\n",
       "    <tr>\n",
       "      <th>98</th>\n",
       "      <td>926094627</td>\n",
       "      <td>103</td>\n",
       "      <td>2019</td>\n",
       "      <td>13803</td>\n",
       "      <td>17319</td>\n",
       "      <td>3060</td>\n",
       "      <td>593</td>\n",
       "      <td>31122</td>\n",
       "      <td>Апрель</td>\n",
       "      <td>NaN</td>\n",
       "    </tr>\n",
       "    <tr>\n",
       "      <th>99</th>\n",
       "      <td>933200250</td>\n",
       "      <td>104</td>\n",
       "      <td>2019</td>\n",
       "      <td>12818</td>\n",
       "      <td>16221</td>\n",
       "      <td>2711</td>\n",
       "      <td>577</td>\n",
       "      <td>29039</td>\n",
       "      <td>Май</td>\n",
       "      <td>NaN</td>\n",
       "    </tr>\n",
       "    <tr>\n",
       "      <th>100</th>\n",
       "      <td>933200260</td>\n",
       "      <td>105</td>\n",
       "      <td>2019</td>\n",
       "      <td>12260</td>\n",
       "      <td>15769</td>\n",
       "      <td>2545</td>\n",
       "      <td>576</td>\n",
       "      <td>28029</td>\n",
       "      <td>Июнь</td>\n",
       "      <td>NaN</td>\n",
       "    </tr>\n",
       "  </tbody>\n",
       "</table>\n",
       "<p>90 rows × 10 columns</p>\n",
       "</div>"
      ],
      "text/plain": [
       "     global_id   ID  Year  UnemployedMen  UnemployedWomen  UnemployedYoung  \\\n",
       "10    64592422   13  2012          17906            23266             6237   \n",
       "12   273573575   12  2012          18012            23806             6413   \n",
       "13   273573576   14  2012          17357            22485             5929   \n",
       "14   273573577   15  2012          16886            21839             5777   \n",
       "15   273573578   16  2012          15650            20411             5179   \n",
       "..         ...  ...   ...            ...              ...              ...   \n",
       "96   918869066  101  2019          13123            16904             3103   \n",
       "97   918869067  102  2019          13433            17164             3102   \n",
       "98   926094627  103  2019          13803            17319             3060   \n",
       "99   933200250  104  2019          12818            16221             2711   \n",
       "100  933200260  105  2019          12260            15769             2545   \n",
       "\n",
       "     UnemployedDisabled  UnemployedTotal   Period  Unnamed: 9  \n",
       "10                 1697            41172  Февраль         NaN  \n",
       "12                 1734            41818   Январь         NaN  \n",
       "13                 1659            39842     Март         NaN  \n",
       "14                 1558            38725   Апрель         NaN  \n",
       "15                 1449            36061      Май         NaN  \n",
       "..                  ...              ...      ...         ...  \n",
       "96                  575            30027  Февраль         NaN  \n",
       "97                  593            30597     Март         NaN  \n",
       "98                  593            31122   Апрель         NaN  \n",
       "99                  577            29039      Май         NaN  \n",
       "100                 576            28029     Июнь         NaN  \n",
       "\n",
       "[90 rows x 10 columns]"
      ]
     },
     "execution_count": 117,
     "metadata": {},
     "output_type": "execute_result"
    }
   ],
   "source": [
    "data_1 = data.groupby(\"Year\").filter(lambda x: len(x) >= 6)\n",
    "data_1"
   ]
  },
  {
   "cell_type": "code",
   "execution_count": 118,
   "metadata": {},
   "outputs": [],
   "source": [
    "data_1_group = data_1.dropna(axis=1, how='all').groupby(\"Year\")"
   ]
  },
  {
   "cell_type": "code",
   "execution_count": 119,
   "metadata": {},
   "outputs": [
    {
     "name": "stdout",
     "output_type": "stream",
     "text": [
      "    global_id  ID  Year  UnemployedMen  UnemployedWomen  UnemployedYoung  \\\n",
      "10   64592422  13  2012          17906            23266             6237   \n",
      "12  273573575  12  2012          18012            23806             6413   \n",
      "13  273573576  14  2012          17357            22485             5929   \n",
      "14  273573577  15  2012          16886            21839             5777   \n",
      "15  273573578  16  2012          15650            20411             5179   \n",
      "16  273573579  17  2012          14447            19060             4608   \n",
      "17  273573580  18  2012          13740            18328             4460   \n",
      "18  273573581  19  2012          13111            17766             4314   \n",
      "19  273573582  20  2012          12446            16825             4163   \n",
      "20  273573583  21  2012          11746            16220             4035   \n",
      "21  273573584  22  2012          11266            15701             3881   \n",
      "22  273573585  23  2012          11497            16076             3915   \n",
      "\n",
      "    UnemployedDisabled  UnemployedTotal    Period  \n",
      "10                1697            41172   Февраль  \n",
      "12                1734            41818    Январь  \n",
      "13                1659            39842      Март  \n",
      "14                1558            38725    Апрель  \n",
      "15                1449            36061       Май  \n",
      "16                1373            33507      Июнь  \n",
      "17                1362            32068      Июль  \n",
      "18                1301            30877    Август  \n",
      "19                1228            29271  Сентябрь  \n",
      "20                1157            27966   Октябрь  \n",
      "21                1102            26967    Ноябрь  \n",
      "22                1107            27573   Декабрь  \n",
      "    global_id  ID  Year  UnemployedMen  UnemployedWomen  UnemployedYoung  \\\n",
      "23  273573587  25  2013          11378            16718             3770   \n",
      "24  273573588  26  2013          11802            17194             4020   \n",
      "25  273573589  27  2013          11695            16982             3881   \n",
      "26  273573590  28  2013          11607            16463             3664   \n",
      "27  273573591  29  2013          11180            15900             3396   \n",
      "28  273573592  30  2013          10753            15159             3101   \n",
      "29  273573593  31  2013          10410            14784             3078   \n",
      "30  273573594  32  2013          10246            14493             3135   \n",
      "31  273573595  33  2013           9873            13997             3083   \n",
      "32  273573596  34  2013           9771            13749             3157   \n",
      "33  273573597  35  2013           9829            13869             3166   \n",
      "34  273573598  36  2013          10089            14370             3213   \n",
      "\n",
      "    UnemployedDisabled  UnemployedTotal    Period  \n",
      "23                1114            28096    Январь  \n",
      "24                1157            28996   Февраль  \n",
      "25                1130            28677      Март  \n",
      "26                1089            28070    Апрель  \n",
      "27                1074            27080       Май  \n",
      "28                1014            25912      Июнь  \n",
      "29                 988            25194      Июль  \n",
      "30                 995            24739    Август  \n",
      "31                 989            23870  Сентябрь  \n",
      "32                 983            23520   Октябрь  \n",
      "33                 996            23698    Ноябрь  \n",
      "34                1040            24459   Декабрь  \n",
      "    global_id  ID  Year  UnemployedMen  UnemployedWomen  UnemployedYoung  \\\n",
      "35  273573600  38  2014          10175            14740             3172   \n",
      "36  273573601  39  2014          10512            14914             3372   \n",
      "37  273573602  40  2014          10344            14569             3275   \n",
      "38  273573603  41  2014          10455            14520             3282   \n",
      "39  273573604  42  2014          10222            14229             3114   \n",
      "40  273573605  43  2014           9782            13761             2926   \n",
      "41  273573606  44  2014           9732            13683             2948   \n",
      "42  273573607  45  2014           9756            13657             2987   \n",
      "43  273573608  46  2014           9724            13464             3051   \n",
      "44  273573609  47  2014           9934            13699             3184   \n",
      "45  273573610  48  2014          10606            14491             3459   \n",
      "46  273573611  49  2014          12018            16611             4108   \n",
      "\n",
      "    UnemployedDisabled  UnemployedTotal    Period  \n",
      "35                1050            24915    Январь  \n",
      "36                1044            25426   Февраль  \n",
      "37                1020            24913      Март  \n",
      "38                1032            24975    Апрель  \n",
      "39                1043            24451       Май  \n",
      "40                 989            23543      Июнь  \n",
      "41                 979            23415      Июль  \n",
      "42                 942            23413    Август  \n",
      "43                 916            23188  Сентябрь  \n",
      "44                 895            23633   Октябрь  \n",
      "45                 925            25097    Ноябрь  \n",
      "46                1051            28629   Декабрь  \n",
      "    global_id  ID  Year  UnemployedMen  UnemployedWomen  UnemployedYoung  \\\n",
      "47  273573613  51  2015          12233            17039             4106   \n",
      "48  273573614  52  2015          13465            18080             4645   \n",
      "49  273573615  53  2015          14253            18681             5072   \n",
      "50  273573616  54  2015          15159            19859             5385   \n",
      "51  273573617  55  2015          14873            19407             5131   \n",
      "52  273573618  56  2015          14935            19782             5140   \n",
      "53  273573619  57  2015          15208            19910             5162   \n",
      "54  273573620  58  2015          15232            19966             5312   \n",
      "55  273573621  59  2015          15321            20687             5649   \n",
      "56  273573622  60  2015          15730            21556             5829   \n",
      "57  273573623  61  2015          16688            22881             6108   \n",
      "58  273573624  62  2015          18615            25431             6817   \n",
      "\n",
      "    UnemployedDisabled  UnemployedTotal    Period  \n",
      "47                1001            29272    Январь  \n",
      "48                1028            31545   Февраль  \n",
      "49                1014            32934      Март  \n",
      "50                1052            35018    Апрель  \n",
      "51                1042            34280       Май  \n",
      "52                 969            34717      Июнь  \n",
      "53                 986            35118      Июль  \n",
      "54                 996            35198    Август  \n",
      "55                 956            36008  Сентябрь  \n",
      "56                1020            37286   Октябрь  \n",
      "57                1055            39569    Ноябрь  \n",
      "58                1128            44046   Декабрь  \n",
      "    global_id  ID  Year  UnemployedMen  UnemployedWomen  UnemployedYoung  \\\n",
      "59  273573626  64  2016          18477            25062             6368   \n",
      "60  273573627  65  2016          19819            25758             6859   \n",
      "61  273573628  66  2016          20501            25725             6847   \n",
      "62  273573629  67  2016          21035            25736             6900   \n",
      "63  273573630  68  2016          20283            24839             6433   \n",
      "64  273573631  69  2016          19624            24086             6066   \n",
      "65  273573632  70  2016          18727            23132             5732   \n",
      "66  273573633  71  2016          17811            22353             5444   \n",
      "67  281593242  72  2016          16958            21594             5187   \n",
      "68  281593353  73  2016          16242            21151             4969   \n",
      "69  282190960  74  2016          15481            19928             4684   \n",
      "70  282746341  75  2016          16054            20833             4794   \n",
      "\n",
      "    UnemployedDisabled  UnemployedTotal    Period  \n",
      "59                1364            43539    Январь  \n",
      "60                1335            45577   Февраль  \n",
      "61                1330            46226      Март  \n",
      "62                1281            46771    Апрель  \n",
      "63                1237            45122       Май  \n",
      "64                1196            43710      Июнь  \n",
      "65                1188            41859      Июль  \n",
      "66                1142            40164    Август  \n",
      "67                1127            38552  Сентябрь  \n",
      "68                1104            37393   Октябрь  \n",
      "69                1083            35409    Ноябрь  \n",
      "70                1075            36887   Декабрь  \n",
      "    global_id  ID  Year  UnemployedMen  UnemployedWomen  UnemployedYoung  \\\n",
      "71  323476240  76  2017          15253            20006             4505   \n",
      "72  338496741  77  2017          15459            19364             4511   \n",
      "73  338497586  78  2017          15155            18478             4365   \n",
      "74  419018595  79  2017          14703            17885             4113   \n",
      "75  476885649  80  2017          13696            16874             3726   \n",
      "76  615575599  81  2017          13169            16231             3484   \n",
      "77  638722421  82  2017          12902            15983             3545   \n",
      "78  671788231  83  2017          12498            15489             3571   \n",
      "79  671793397  84  2017          12129            15554             3557   \n",
      "80  671801829  85  2017          11971            15446             3512   \n",
      "81  841752797  86  2017          12054            15554             3438   \n",
      "82  841752805  87  2017          12971            17109             3676   \n",
      "\n",
      "    UnemployedDisabled  UnemployedTotal    Period  \n",
      "71                1007            35259    Январь  \n",
      "72                 980            34823   Февраль  \n",
      "73                 927            33633      Март  \n",
      "74                 869            32588    Апрель  \n",
      "75                 797            30570       Май  \n",
      "76                 776            29400      Июнь  \n",
      "77                 756            28885      Июль  \n",
      "78                 738            27987    Август  \n",
      "79                 722            27683  Сентябрь  \n",
      "80                 736            27417   Октябрь  \n",
      "81                 714            27608    Ноябрь  \n",
      "82                 722            30080   Декабрь  \n",
      "    global_id  ID  Year  UnemployedMen  UnemployedWomen  UnemployedYoung  \\\n",
      "83  843989666  88  2018          12782            16809             3537   \n",
      "84  858378159  89  2018          12993            16603             3442   \n",
      "85  861113574  90  2018          12793            16301             3309   \n",
      "86  863485150  91  2018          12527            15988             3188   \n",
      "87  880655734  92  2018          11622            15020             2816   \n",
      "88  880655751  93  2018          11149            14341             2639   \n",
      "89  886051152  94  2018          10869            13881             2637   \n",
      "90  886440501  95  2018          10745            13837             2735   \n",
      "91  894075540  96  2018          10651            14043             2829   \n",
      "92  896740236  97  2018          10763            14375             2892   \n",
      "93  904345746  98  2018          11080            14610             2911   \n",
      "94  909303094  99  2018          12063            15815             3077   \n",
      "\n",
      "    UnemployedDisabled  UnemployedTotal    Period  \n",
      "83                 708            29591    Январь  \n",
      "84                 658            29596   Февраль  \n",
      "85                 638            29094      Март  \n",
      "86                 599            28515    Апрель  \n",
      "87                 575            26642       Май  \n",
      "88                 526            25490      Июнь  \n",
      "89                 501            24750      Июль  \n",
      "90                 503            24582    Август  \n",
      "91                 472            24694  Сентябрь  \n",
      "92                 477            25138   Октябрь  \n",
      "93                 467            25690    Ноябрь  \n",
      "94                 527            27878   Декабрь  \n",
      "     global_id   ID  Year  UnemployedMen  UnemployedWomen  UnemployedYoung  \\\n",
      "95   918869065  100  2019          12225            16078             2960   \n",
      "96   918869066  101  2019          13123            16904             3103   \n",
      "97   918869067  102  2019          13433            17164             3102   \n",
      "98   926094627  103  2019          13803            17319             3060   \n",
      "99   933200250  104  2019          12818            16221             2711   \n",
      "100  933200260  105  2019          12260            15769             2545   \n",
      "\n",
      "     UnemployedDisabled  UnemployedTotal   Period  \n",
      "95                  533            28303   Январь  \n",
      "96                  575            30027  Февраль  \n",
      "97                  593            30597     Март  \n",
      "98                  593            31122   Апрель  \n",
      "99                  577            29039      Май  \n",
      "100                 576            28029     Июнь  \n"
     ]
    },
    {
     "data": {
      "text/html": [
       "<div>\n",
       "<style scoped>\n",
       "    .dataframe tbody tr th:only-of-type {\n",
       "        vertical-align: middle;\n",
       "    }\n",
       "\n",
       "    .dataframe tbody tr th {\n",
       "        vertical-align: top;\n",
       "    }\n",
       "\n",
       "    .dataframe thead th {\n",
       "        text-align: right;\n",
       "    }\n",
       "</style>\n",
       "<table border=\"1\" class=\"dataframe\">\n",
       "  <thead>\n",
       "    <tr style=\"text-align: right;\">\n",
       "      <th></th>\n",
       "    </tr>\n",
       "  </thead>\n",
       "  <tbody>\n",
       "  </tbody>\n",
       "</table>\n",
       "</div>"
      ],
      "text/plain": [
       "Empty DataFrame\n",
       "Columns: []\n",
       "Index: []"
      ]
     },
     "execution_count": 119,
     "metadata": {},
     "output_type": "execute_result"
    }
   ],
   "source": [
    "data_1_group.apply(print)"
   ]
  },
  {
   "cell_type": "markdown",
   "metadata": {},
   "source": [
    "### Постройте модель линейной регрессии по годам среднего значения отношения UnemployedDisabled к UnemployedTotal за месяц"
   ]
  },
  {
   "cell_type": "code",
   "execution_count": 120,
   "metadata": {},
   "outputs": [
    {
     "data": {
      "text/html": [
       "<div>\n",
       "<style scoped>\n",
       "    .dataframe tbody tr th:only-of-type {\n",
       "        vertical-align: middle;\n",
       "    }\n",
       "\n",
       "    .dataframe tbody tr th {\n",
       "        vertical-align: top;\n",
       "    }\n",
       "\n",
       "    .dataframe thead th {\n",
       "        text-align: right;\n",
       "    }\n",
       "</style>\n",
       "<table border=\"1\" class=\"dataframe\">\n",
       "  <thead>\n",
       "    <tr style=\"text-align: right;\">\n",
       "      <th></th>\n",
       "      <th>UnemployedDisabled</th>\n",
       "      <th>UnemployedTotal</th>\n",
       "    </tr>\n",
       "    <tr>\n",
       "      <th>Year</th>\n",
       "      <th></th>\n",
       "      <th></th>\n",
       "    </tr>\n",
       "  </thead>\n",
       "  <tbody>\n",
       "    <tr>\n",
       "      <th>2012</th>\n",
       "      <td>1393.92</td>\n",
       "      <td>33820.58</td>\n",
       "    </tr>\n",
       "    <tr>\n",
       "      <th>2013</th>\n",
       "      <td>1047.42</td>\n",
       "      <td>26025.92</td>\n",
       "    </tr>\n",
       "    <tr>\n",
       "      <th>2014</th>\n",
       "      <td>990.50</td>\n",
       "      <td>24633.17</td>\n",
       "    </tr>\n",
       "    <tr>\n",
       "      <th>2015</th>\n",
       "      <td>1020.58</td>\n",
       "      <td>35415.92</td>\n",
       "    </tr>\n",
       "    <tr>\n",
       "      <th>2016</th>\n",
       "      <td>1205.17</td>\n",
       "      <td>41767.42</td>\n",
       "    </tr>\n",
       "    <tr>\n",
       "      <th>2017</th>\n",
       "      <td>812.00</td>\n",
       "      <td>30494.42</td>\n",
       "    </tr>\n",
       "    <tr>\n",
       "      <th>2018</th>\n",
       "      <td>554.25</td>\n",
       "      <td>26805.00</td>\n",
       "    </tr>\n",
       "    <tr>\n",
       "      <th>2019</th>\n",
       "      <td>574.50</td>\n",
       "      <td>29519.50</td>\n",
       "    </tr>\n",
       "  </tbody>\n",
       "</table>\n",
       "</div>"
      ],
      "text/plain": [
       "      UnemployedDisabled  UnemployedTotal\n",
       "Year                                     \n",
       "2012             1393.92         33820.58\n",
       "2013             1047.42         26025.92\n",
       "2014              990.50         24633.17\n",
       "2015             1020.58         35415.92\n",
       "2016             1205.17         41767.42\n",
       "2017              812.00         30494.42\n",
       "2018              554.25         26805.00\n",
       "2019              574.50         29519.50"
      ]
     },
     "execution_count": 120,
     "metadata": {},
     "output_type": "execute_result"
    }
   ],
   "source": [
    "data_1_mean = data_1_group.mean()\n",
    "data_1_group.mean()[[\"UnemployedDisabled\",\n",
    "                     \"UnemployedTotal\"]].apply(lambda x:\n",
    "                                               round(x, 2))"
   ]
  },
  {
   "cell_type": "markdown",
   "metadata": {},
   "source": [
    "Вектор-столбец UnemployedDisabled"
   ]
  },
  {
   "cell_type": "code",
   "execution_count": 121,
   "metadata": {},
   "outputs": [
    {
     "data": {
      "text/plain": [
       "array([[1393.91666667],\n",
       "       [1047.41666667],\n",
       "       [ 990.5       ],\n",
       "       [1020.58333333],\n",
       "       [1205.16666667],\n",
       "       [ 812.        ],\n",
       "       [ 554.25      ],\n",
       "       [ 574.5       ]])"
      ]
     },
     "execution_count": 121,
     "metadata": {},
     "output_type": "execute_result"
    }
   ],
   "source": [
    "y = np.array(data_1_mean[\"UnemployedDisabled\"]).reshape(\n",
    "    len(data_1_mean.index), 1)\n",
    "y"
   ]
  },
  {
   "cell_type": "markdown",
   "metadata": {},
   "source": [
    "Вектор-столбец UnemployedTotal"
   ]
  },
  {
   "cell_type": "code",
   "execution_count": 122,
   "metadata": {},
   "outputs": [
    {
     "data": {
      "text/plain": [
       "array([[33820.58333333],\n",
       "       [26025.91666667],\n",
       "       [24633.16666667],\n",
       "       [35415.91666667],\n",
       "       [41767.41666667],\n",
       "       [30494.41666667],\n",
       "       [26805.        ],\n",
       "       [29519.5       ]])"
      ]
     },
     "execution_count": 122,
     "metadata": {},
     "output_type": "execute_result"
    }
   ],
   "source": [
    "x = np.array(data_1_mean[\"UnemployedTotal\"]).reshape(\n",
    "    len(data_1_mean.index), 1)\n",
    "x"
   ]
  },
  {
   "cell_type": "code",
   "execution_count": 123,
   "metadata": {},
   "outputs": [
    {
     "data": {
      "text/plain": [
       "sklearn.linear_model._base.LinearRegression"
      ]
     },
     "execution_count": 123,
     "metadata": {},
     "output_type": "execute_result"
    }
   ],
   "source": [
    "model = LinearRegression()\n",
    "type(model)"
   ]
  },
  {
   "cell_type": "code",
   "execution_count": 124,
   "metadata": {},
   "outputs": [
    {
     "data": {
      "text/plain": [
       "LinearRegression()"
      ]
     },
     "execution_count": 124,
     "metadata": {},
     "output_type": "execute_result"
    }
   ],
   "source": [
    "model.fit(x, y)"
   ]
  },
  {
   "cell_type": "code",
   "execution_count": 129,
   "metadata": {},
   "outputs": [
    {
     "data": {
      "image/png": "[encoded data removed]",
      "text/plain": [
       "<Figure size 432x288 with 1 Axes>"
      ]
     },
     "metadata": {
      "needs_background": "light"
     },
     "output_type": "display_data"
    }
   ],
   "source": [
    "plt.figure(\"Linear Regression\")\n",
    "plt.scatter(x, y)\n",
    "plt.plot(x, model.predict(x))\n",
    "plt.show()"
   ]
  },
  {
   "cell_type": "markdown",
   "metadata": {},
   "source": [
    "### Какое ожидается значение процента безработных инвалидов в 2020 году при сохранении текущей политики города Москвы?"
   ]
  },
  {
   "cell_type": "markdown",
   "metadata": {},
   "source": [
    "Для этого найдем регрессию Полного количества безработных к году"
   ]
  },
  {
   "cell_type": "code",
   "execution_count": 138,
   "metadata": {},
   "outputs": [
    {
     "data": {
      "text/html": [
       "<div>\n",
       "<style scoped>\n",
       "    .dataframe tbody tr th:only-of-type {\n",
       "        vertical-align: middle;\n",
       "    }\n",
       "\n",
       "    .dataframe tbody tr th {\n",
       "        vertical-align: top;\n",
       "    }\n",
       "\n",
       "    .dataframe thead th {\n",
       "        text-align: right;\n",
       "    }\n",
       "</style>\n",
       "<table border=\"1\" class=\"dataframe\">\n",
       "  <thead>\n",
       "    <tr style=\"text-align: right;\">\n",
       "      <th></th>\n",
       "      <th>UnemployedTotal</th>\n",
       "      <th>Year</th>\n",
       "    </tr>\n",
       "  </thead>\n",
       "  <tbody>\n",
       "    <tr>\n",
       "      <th>0</th>\n",
       "      <td>33820.583333</td>\n",
       "      <td>2012</td>\n",
       "    </tr>\n",
       "    <tr>\n",
       "      <th>1</th>\n",
       "      <td>26025.916667</td>\n",
       "      <td>2013</td>\n",
       "    </tr>\n",
       "    <tr>\n",
       "      <th>2</th>\n",
       "      <td>24633.166667</td>\n",
       "      <td>2014</td>\n",
       "    </tr>\n",
       "    <tr>\n",
       "      <th>3</th>\n",
       "      <td>35415.916667</td>\n",
       "      <td>2015</td>\n",
       "    </tr>\n",
       "    <tr>\n",
       "      <th>4</th>\n",
       "      <td>41767.416667</td>\n",
       "      <td>2016</td>\n",
       "    </tr>\n",
       "    <tr>\n",
       "      <th>5</th>\n",
       "      <td>30494.416667</td>\n",
       "      <td>2017</td>\n",
       "    </tr>\n",
       "    <tr>\n",
       "      <th>6</th>\n",
       "      <td>26805.000000</td>\n",
       "      <td>2018</td>\n",
       "    </tr>\n",
       "    <tr>\n",
       "      <th>7</th>\n",
       "      <td>29519.500000</td>\n",
       "      <td>2019</td>\n",
       "    </tr>\n",
       "  </tbody>\n",
       "</table>\n",
       "</div>"
      ],
      "text/plain": [
       "   UnemployedTotal  Year\n",
       "0     33820.583333  2012\n",
       "1     26025.916667  2013\n",
       "2     24633.166667  2014\n",
       "3     35415.916667  2015\n",
       "4     41767.416667  2016\n",
       "5     30494.416667  2017\n",
       "6     26805.000000  2018\n",
       "7     29519.500000  2019"
      ]
     },
     "execution_count": 138,
     "metadata": {},
     "output_type": "execute_result"
    }
   ],
   "source": [
    "data_2 = data_1_group.mean()[[\"UnemployedDisabled\",\n",
    "                     \"UnemployedTotal\"]]\n",
    "data_2 = (data_2.reset_index())[[\"UnemployedTotal\", \"Year\"]]\n",
    "data_2"
   ]
  },
  {
   "cell_type": "code",
   "execution_count": 139,
   "metadata": {},
   "outputs": [
    {
     "data": {
      "text/plain": [
       "LinearRegression()"
      ]
     },
     "execution_count": 139,
     "metadata": {},
     "output_type": "execute_result"
    }
   ],
   "source": [
    "model_1 = LinearRegression()\n",
    "x1 = np.array(data_2['Year']).reshape(len(data_2.index), 1)\n",
    "y1 = np.array(data_2['UnemployedTotal']).reshape(len(data_2.index), 1)\n",
    "model_1.fit(x1, y1)"
   ]
  },
  {
   "cell_type": "code",
   "execution_count": 142,
   "metadata": {},
   "outputs": [
    {
     "data": {
      "image/png": "[encoded data removed]",
      "text/plain": [
       "<Figure size 432x288 with 1 Axes>"
      ]
     },
     "metadata": {
      "needs_background": "light"
     },
     "output_type": "display_data"
    }
   ],
   "source": [
    "plt.figure(\"Linear Regression Year Total\")\n",
    "plt.scatter(x1, y1)\n",
    "plt.plot(x1, model_1.predict(x1))\n",
    "plt.show()"
   ]
  },
  {
   "cell_type": "markdown",
   "metadata": {},
   "source": [
    "Найдем, какой предсказывается уровень Unemployed Total в 2020"
   ]
  },
  {
   "cell_type": "code",
   "execution_count": 145,
   "metadata": {},
   "outputs": [
    {
     "data": {
      "text/plain": [
       "array([[30938.26190476]])"
      ]
     },
     "execution_count": 145,
     "metadata": {},
     "output_type": "execute_result"
    }
   ],
   "source": [
    "total2020 = model_1.predict([[2020]])\n",
    "total2020"
   ]
  },
  {
   "cell_type": "markdown",
   "metadata": {},
   "source": [
    "Найдем, какой предсказывается уровень Unemployed Disabled при уровне Unemployed Total = total2020\n"
   ]
  },
  {
   "cell_type": "code",
   "execution_count": 147,
   "metadata": {},
   "outputs": [
    {
     "data": {
      "text/plain": [
       "array([[30938.26190476]])"
      ]
     },
     "execution_count": 147,
     "metadata": {},
     "output_type": "execute_result"
    }
   ],
   "source": [
    "disabled2020 = model.predict(total2020)\n",
    "total2020"
   ]
  },
  {
   "cell_type": "markdown",
   "metadata": {},
   "source": [
    "### значение процента безработных инвалидов в 2020 году\n",
    "#### это у нас отношение средних"
   ]
  },
  {
   "cell_type": "code",
   "execution_count": 151,
   "metadata": {},
   "outputs": [
    {
     "data": {
      "text/plain": [
       "3.06"
      ]
     },
     "execution_count": 151,
     "metadata": {},
     "output_type": "execute_result"
    }
   ],
   "source": [
    "round((disabled2020 / total2020 * 100)[0][0], 2)"
   ]
  },
  {
   "cell_type": "markdown",
   "metadata": {},
   "source": [
    "# нужно найти среднее отношений"
   ]
  },
  {
   "cell_type": "code",
   "execution_count": 153,
   "metadata": {},
   "outputs": [],
   "source": [
    "data.dropna(axis=1, how='all', inplace=True)"
   ]
  },
  {
   "cell_type": "code",
   "execution_count": 154,
   "metadata": {},
   "outputs": [],
   "source": [
    "data[\"Disabled\"] = data[\"UnemployedDisabled\"]/data[\"UnemployedTotal\"]"
   ]
  },
  {
   "cell_type": "code",
   "execution_count": 155,
   "metadata": {},
   "outputs": [
    {
     "data": {
      "text/html": [
       "<div>\n",
       "<style scoped>\n",
       "    .dataframe tbody tr th:only-of-type {\n",
       "        vertical-align: middle;\n",
       "    }\n",
       "\n",
       "    .dataframe tbody tr th {\n",
       "        vertical-align: top;\n",
       "    }\n",
       "\n",
       "    .dataframe thead th {\n",
       "        text-align: right;\n",
       "    }\n",
       "</style>\n",
       "<table border=\"1\" class=\"dataframe\">\n",
       "  <thead>\n",
       "    <tr style=\"text-align: right;\">\n",
       "      <th></th>\n",
       "      <th>global_id</th>\n",
       "      <th>ID</th>\n",
       "      <th>Year</th>\n",
       "      <th>UnemployedMen</th>\n",
       "      <th>UnemployedWomen</th>\n",
       "      <th>UnemployedYoung</th>\n",
       "      <th>UnemployedDisabled</th>\n",
       "      <th>UnemployedTotal</th>\n",
       "      <th>Period</th>\n",
       "      <th>Disabled</th>\n",
       "    </tr>\n",
       "  </thead>\n",
       "  <tbody>\n",
       "    <tr>\n",
       "      <th>0</th>\n",
       "      <td>39809862</td>\n",
       "      <td>1</td>\n",
       "      <td>2001</td>\n",
       "      <td>8896</td>\n",
       "      <td>25762</td>\n",
       "      <td>6696</td>\n",
       "      <td>824</td>\n",
       "      <td>34658</td>\n",
       "      <td>Декабрь</td>\n",
       "      <td>0.023775</td>\n",
       "    </tr>\n",
       "    <tr>\n",
       "      <th>1</th>\n",
       "      <td>64592413</td>\n",
       "      <td>3</td>\n",
       "      <td>2003</td>\n",
       "      <td>8679</td>\n",
       "      <td>24967</td>\n",
       "      <td>6226</td>\n",
       "      <td>1155</td>\n",
       "      <td>33646</td>\n",
       "      <td>Декабрь</td>\n",
       "      <td>0.034328</td>\n",
       "    </tr>\n",
       "    <tr>\n",
       "      <th>2</th>\n",
       "      <td>64592414</td>\n",
       "      <td>4</td>\n",
       "      <td>2004</td>\n",
       "      <td>9822</td>\n",
       "      <td>25239</td>\n",
       "      <td>7318</td>\n",
       "      <td>1411</td>\n",
       "      <td>35061</td>\n",
       "      <td>Декабрь</td>\n",
       "      <td>0.040244</td>\n",
       "    </tr>\n",
       "    <tr>\n",
       "      <th>3</th>\n",
       "      <td>64592415</td>\n",
       "      <td>5</td>\n",
       "      <td>2005</td>\n",
       "      <td>10844</td>\n",
       "      <td>23597</td>\n",
       "      <td>6890</td>\n",
       "      <td>1531</td>\n",
       "      <td>34441</td>\n",
       "      <td>Декабрь</td>\n",
       "      <td>0.044453</td>\n",
       "    </tr>\n",
       "    <tr>\n",
       "      <th>4</th>\n",
       "      <td>64592416</td>\n",
       "      <td>6</td>\n",
       "      <td>2006</td>\n",
       "      <td>11041</td>\n",
       "      <td>22928</td>\n",
       "      <td>6604</td>\n",
       "      <td>1671</td>\n",
       "      <td>33969</td>\n",
       "      <td>Декабрь</td>\n",
       "      <td>0.049192</td>\n",
       "    </tr>\n",
       "    <tr>\n",
       "      <th>...</th>\n",
       "      <td>...</td>\n",
       "      <td>...</td>\n",
       "      <td>...</td>\n",
       "      <td>...</td>\n",
       "      <td>...</td>\n",
       "      <td>...</td>\n",
       "      <td>...</td>\n",
       "      <td>...</td>\n",
       "      <td>...</td>\n",
       "      <td>...</td>\n",
       "    </tr>\n",
       "    <tr>\n",
       "      <th>96</th>\n",
       "      <td>918869066</td>\n",
       "      <td>101</td>\n",
       "      <td>2019</td>\n",
       "      <td>13123</td>\n",
       "      <td>16904</td>\n",
       "      <td>3103</td>\n",
       "      <td>575</td>\n",
       "      <td>30027</td>\n",
       "      <td>Февраль</td>\n",
       "      <td>0.019149</td>\n",
       "    </tr>\n",
       "    <tr>\n",
       "      <th>97</th>\n",
       "      <td>918869067</td>\n",
       "      <td>102</td>\n",
       "      <td>2019</td>\n",
       "      <td>13433</td>\n",
       "      <td>17164</td>\n",
       "      <td>3102</td>\n",
       "      <td>593</td>\n",
       "      <td>30597</td>\n",
       "      <td>Март</td>\n",
       "      <td>0.019381</td>\n",
       "    </tr>\n",
       "    <tr>\n",
       "      <th>98</th>\n",
       "      <td>926094627</td>\n",
       "      <td>103</td>\n",
       "      <td>2019</td>\n",
       "      <td>13803</td>\n",
       "      <td>17319</td>\n",
       "      <td>3060</td>\n",
       "      <td>593</td>\n",
       "      <td>31122</td>\n",
       "      <td>Апрель</td>\n",
       "      <td>0.019054</td>\n",
       "    </tr>\n",
       "    <tr>\n",
       "      <th>99</th>\n",
       "      <td>933200250</td>\n",
       "      <td>104</td>\n",
       "      <td>2019</td>\n",
       "      <td>12818</td>\n",
       "      <td>16221</td>\n",
       "      <td>2711</td>\n",
       "      <td>577</td>\n",
       "      <td>29039</td>\n",
       "      <td>Май</td>\n",
       "      <td>0.019870</td>\n",
       "    </tr>\n",
       "    <tr>\n",
       "      <th>100</th>\n",
       "      <td>933200260</td>\n",
       "      <td>105</td>\n",
       "      <td>2019</td>\n",
       "      <td>12260</td>\n",
       "      <td>15769</td>\n",
       "      <td>2545</td>\n",
       "      <td>576</td>\n",
       "      <td>28029</td>\n",
       "      <td>Июнь</td>\n",
       "      <td>0.020550</td>\n",
       "    </tr>\n",
       "  </tbody>\n",
       "</table>\n",
       "<p>101 rows × 10 columns</p>\n",
       "</div>"
      ],
      "text/plain": [
       "     global_id   ID  Year  UnemployedMen  UnemployedWomen  UnemployedYoung  \\\n",
       "0     39809862    1  2001           8896            25762             6696   \n",
       "1     64592413    3  2003           8679            24967             6226   \n",
       "2     64592414    4  2004           9822            25239             7318   \n",
       "3     64592415    5  2005          10844            23597             6890   \n",
       "4     64592416    6  2006          11041            22928             6604   \n",
       "..         ...  ...   ...            ...              ...              ...   \n",
       "96   918869066  101  2019          13123            16904             3103   \n",
       "97   918869067  102  2019          13433            17164             3102   \n",
       "98   926094627  103  2019          13803            17319             3060   \n",
       "99   933200250  104  2019          12818            16221             2711   \n",
       "100  933200260  105  2019          12260            15769             2545   \n",
       "\n",
       "     UnemployedDisabled  UnemployedTotal   Period  Disabled  \n",
       "0                   824            34658  Декабрь  0.023775  \n",
       "1                  1155            33646  Декабрь  0.034328  \n",
       "2                  1411            35061  Декабрь  0.040244  \n",
       "3                  1531            34441  Декабрь  0.044453  \n",
       "4                  1671            33969  Декабрь  0.049192  \n",
       "..                  ...              ...      ...       ...  \n",
       "96                  575            30027  Февраль  0.019149  \n",
       "97                  593            30597     Март  0.019381  \n",
       "98                  593            31122   Апрель  0.019054  \n",
       "99                  577            29039      Май  0.019870  \n",
       "100                 576            28029     Июнь  0.020550  \n",
       "\n",
       "[101 rows x 10 columns]"
      ]
     },
     "execution_count": 155,
     "metadata": {},
     "output_type": "execute_result"
    }
   ],
   "source": [
    "data"
   ]
  },
  {
   "cell_type": "code",
   "execution_count": 159,
   "metadata": {},
   "outputs": [
    {
     "data": {
      "text/html": [
       "<div>\n",
       "<style scoped>\n",
       "    .dataframe tbody tr th:only-of-type {\n",
       "        vertical-align: middle;\n",
       "    }\n",
       "\n",
       "    .dataframe tbody tr th {\n",
       "        vertical-align: top;\n",
       "    }\n",
       "\n",
       "    .dataframe thead th {\n",
       "        text-align: right;\n",
       "    }\n",
       "</style>\n",
       "<table border=\"1\" class=\"dataframe\">\n",
       "  <thead>\n",
       "    <tr style=\"text-align: right;\">\n",
       "      <th></th>\n",
       "      <th>global_id</th>\n",
       "      <th>ID</th>\n",
       "      <th>UnemployedMen</th>\n",
       "      <th>UnemployedWomen</th>\n",
       "      <th>UnemployedYoung</th>\n",
       "      <th>UnemployedDisabled</th>\n",
       "      <th>UnemployedTotal</th>\n",
       "      <th>Disabled</th>\n",
       "    </tr>\n",
       "    <tr>\n",
       "      <th>Year</th>\n",
       "      <th></th>\n",
       "      <th></th>\n",
       "      <th></th>\n",
       "      <th></th>\n",
       "      <th></th>\n",
       "      <th></th>\n",
       "      <th></th>\n",
       "      <th></th>\n",
       "    </tr>\n",
       "  </thead>\n",
       "  <tbody>\n",
       "    <tr>\n",
       "      <th>2012</th>\n",
       "      <td>2.561585e+08</td>\n",
       "      <td>17.5</td>\n",
       "      <td>14505.333333</td>\n",
       "      <td>19315.250000</td>\n",
       "      <td>4909.250000</td>\n",
       "      <td>1393.916667</td>\n",
       "      <td>33820.583333</td>\n",
       "      <td>0.041221</td>\n",
       "    </tr>\n",
       "    <tr>\n",
       "      <th>2013</th>\n",
       "      <td>2.735736e+08</td>\n",
       "      <td>30.5</td>\n",
       "      <td>10719.416667</td>\n",
       "      <td>15306.500000</td>\n",
       "      <td>3388.666667</td>\n",
       "      <td>1047.416667</td>\n",
       "      <td>26025.916667</td>\n",
       "      <td>0.040313</td>\n",
       "    </tr>\n",
       "    <tr>\n",
       "      <th>2014</th>\n",
       "      <td>2.735736e+08</td>\n",
       "      <td>43.5</td>\n",
       "      <td>10271.666667</td>\n",
       "      <td>14361.500000</td>\n",
       "      <td>3239.833333</td>\n",
       "      <td>990.500000</td>\n",
       "      <td>24633.166667</td>\n",
       "      <td>0.040260</td>\n",
       "    </tr>\n",
       "    <tr>\n",
       "      <th>2015</th>\n",
       "      <td>2.735736e+08</td>\n",
       "      <td>56.5</td>\n",
       "      <td>15142.666667</td>\n",
       "      <td>20273.250000</td>\n",
       "      <td>5363.000000</td>\n",
       "      <td>1020.583333</td>\n",
       "      <td>35415.916667</td>\n",
       "      <td>0.029040</td>\n",
       "    </tr>\n",
       "    <tr>\n",
       "      <th>2016</th>\n",
       "      <td>2.763927e+08</td>\n",
       "      <td>69.5</td>\n",
       "      <td>18417.666667</td>\n",
       "      <td>23349.750000</td>\n",
       "      <td>5856.916667</td>\n",
       "      <td>1205.166667</td>\n",
       "      <td>41767.416667</td>\n",
       "      <td>0.028905</td>\n",
       "    </tr>\n",
       "    <tr>\n",
       "      <th>2017</th>\n",
       "      <td>5.707968e+08</td>\n",
       "      <td>81.5</td>\n",
       "      <td>13496.666667</td>\n",
       "      <td>16997.750000</td>\n",
       "      <td>3833.583333</td>\n",
       "      <td>812.000000</td>\n",
       "      <td>30494.416667</td>\n",
       "      <td>0.026561</td>\n",
       "    </tr>\n",
       "    <tr>\n",
       "      <th>2018</th>\n",
       "      <td>8.804362e+08</td>\n",
       "      <td>93.5</td>\n",
       "      <td>11669.750000</td>\n",
       "      <td>15135.250000</td>\n",
       "      <td>3001.000000</td>\n",
       "      <td>554.250000</td>\n",
       "      <td>26805.000000</td>\n",
       "      <td>0.020599</td>\n",
       "    </tr>\n",
       "    <tr>\n",
       "      <th>2019</th>\n",
       "      <td>9.248504e+08</td>\n",
       "      <td>102.5</td>\n",
       "      <td>12943.666667</td>\n",
       "      <td>16575.833333</td>\n",
       "      <td>2913.500000</td>\n",
       "      <td>574.500000</td>\n",
       "      <td>29519.500000</td>\n",
       "      <td>0.019473</td>\n",
       "    </tr>\n",
       "  </tbody>\n",
       "</table>\n",
       "</div>"
      ],
      "text/plain": [
       "         global_id     ID  UnemployedMen  UnemployedWomen  UnemployedYoung  \\\n",
       "Year                                                                         \n",
       "2012  2.561585e+08   17.5   14505.333333     19315.250000      4909.250000   \n",
       "2013  2.735736e+08   30.5   10719.416667     15306.500000      3388.666667   \n",
       "2014  2.735736e+08   43.5   10271.666667     14361.500000      3239.833333   \n",
       "2015  2.735736e+08   56.5   15142.666667     20273.250000      5363.000000   \n",
       "2016  2.763927e+08   69.5   18417.666667     23349.750000      5856.916667   \n",
       "2017  5.707968e+08   81.5   13496.666667     16997.750000      3833.583333   \n",
       "2018  8.804362e+08   93.5   11669.750000     15135.250000      3001.000000   \n",
       "2019  9.248504e+08  102.5   12943.666667     16575.833333      2913.500000   \n",
       "\n",
       "      UnemployedDisabled  UnemployedTotal  Disabled  \n",
       "Year                                                 \n",
       "2012         1393.916667     33820.583333  0.041221  \n",
       "2013         1047.416667     26025.916667  0.040313  \n",
       "2014          990.500000     24633.166667  0.040260  \n",
       "2015         1020.583333     35415.916667  0.029040  \n",
       "2016         1205.166667     41767.416667  0.028905  \n",
       "2017          812.000000     30494.416667  0.026561  \n",
       "2018          554.250000     26805.000000  0.020599  \n",
       "2019          574.500000     29519.500000  0.019473  "
      ]
     },
     "execution_count": 159,
     "metadata": {},
     "output_type": "execute_result"
    }
   ],
   "source": [
    "data_3 = data.groupby(\"Year\").filter(lambda x: len(x) >= 6).groupby(\"Year\")\n",
    "data_3.mean()"
   ]
  },
  {
   "cell_type": "code",
   "execution_count": 161,
   "metadata": {},
   "outputs": [
    {
     "data": {
      "text/plain": [
       "LinearRegression()"
      ]
     },
     "execution_count": 161,
     "metadata": {},
     "output_type": "execute_result"
    }
   ],
   "source": [
    "data_4 = data_3.mean().reset_index()\n",
    "model_3 = LinearRegression()\n",
    "x3 = np.array(data_4[\"Year\"]).reshape(len(data_4.index), 1)\n",
    "y3 = np.array(data_4[\"Disabled\"]).reshape(len(data_4.index), 1)\n",
    "model_3.fit(x3, y3)"
   ]
  },
  {
   "cell_type": "code",
   "execution_count": 164,
   "metadata": {},
   "outputs": [
    {
     "data": {
      "image/png": "[encoded data removed]",
      "text/plain": [
       "<Figure size 432x288 with 1 Axes>"
      ]
     },
     "metadata": {
      "needs_background": "light"
     },
     "output_type": "display_data"
    }
   ],
   "source": [
    "plt.figure(\"1\")\n",
    "plt.scatter(x3, y3)\n",
    "plt.plot(x3, model_3.predict(x3))\n",
    "plt.show()"
   ]
  },
  {
   "cell_type": "code",
   "execution_count": 168,
   "metadata": {},
   "outputs": [
    {
     "data": {
      "text/plain": [
       "1.52"
      ]
     },
     "execution_count": 168,
     "metadata": {},
     "output_type": "execute_result"
    }
   ],
   "source": [
    "round((model_3.predict([[2020]])*100)[0][0], 2)"
   ]
  },
  {
   "cell_type": "code",
   "execution_count": null,
   "metadata": {},
   "outputs": [],
   "source": []
  }
 ],
 "metadata": {
  "kernelspec": {
   "display_name": "Python 3",
   "language": "python",
   "name": "python3"
  },
  "language_info": {
   "codemirror_mode": {
    "name": "ipython",
    "version": 3
   },
   "file_extension": ".py",
   "mimetype": "text/x-python",
   "name": "python",
   "nbconvert_exporter": "python",
   "pygments_lexer": "ipython3",
   "version": "3.8.3"
  }
 },
 "nbformat": 4,
 "nbformat_minor": 4
}
