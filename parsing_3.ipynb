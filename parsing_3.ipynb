{
 "cells": [
  {
   "cell_type": "code",
   "execution_count": 1,
   "metadata": {},
   "outputs": [],
   "source": [
    "import pandas as pd"
   ]
  },
  {
   "cell_type": "code",
   "execution_count": 20,
   "metadata": {},
   "outputs": [],
   "source": [
    "data = pd.read_csv(\"https://video.ittensive.com/python-advanced/data-9753-2019-07-25.utf.csv\", sep=';').dropna(axis=1, how='all')"
   ]
  },
  {
   "cell_type": "code",
   "execution_count": 22,
   "metadata": {},
   "outputs": [
    {
     "data": {
      "text/html": [
       "<div>\n",
       "<style scoped>\n",
       "    .dataframe tbody tr th:only-of-type {\n",
       "        vertical-align: middle;\n",
       "    }\n",
       "\n",
       "    .dataframe tbody tr th {\n",
       "        vertical-align: top;\n",
       "    }\n",
       "\n",
       "    .dataframe thead th {\n",
       "        text-align: right;\n",
       "    }\n",
       "</style>\n",
       "<table border=\"1\" class=\"dataframe\">\n",
       "  <thead>\n",
       "    <tr style=\"text-align: right;\">\n",
       "      <th></th>\n",
       "      <th>global_id</th>\n",
       "      <th>ID</th>\n",
       "      <th>Year</th>\n",
       "      <th>UnemployedMen</th>\n",
       "      <th>UnemployedWomen</th>\n",
       "      <th>UnemployedYoung</th>\n",
       "      <th>UnemployedDisabled</th>\n",
       "      <th>UnemployedTotal</th>\n",
       "      <th>Period</th>\n",
       "    </tr>\n",
       "  </thead>\n",
       "  <tbody>\n",
       "    <tr>\n",
       "      <th>0</th>\n",
       "      <td>39809862</td>\n",
       "      <td>1</td>\n",
       "      <td>2001</td>\n",
       "      <td>8896</td>\n",
       "      <td>25762</td>\n",
       "      <td>6696</td>\n",
       "      <td>824</td>\n",
       "      <td>34658</td>\n",
       "      <td>Декабрь</td>\n",
       "    </tr>\n",
       "    <tr>\n",
       "      <th>1</th>\n",
       "      <td>64592413</td>\n",
       "      <td>3</td>\n",
       "      <td>2003</td>\n",
       "      <td>8679</td>\n",
       "      <td>24967</td>\n",
       "      <td>6226</td>\n",
       "      <td>1155</td>\n",
       "      <td>33646</td>\n",
       "      <td>Декабрь</td>\n",
       "    </tr>\n",
       "    <tr>\n",
       "      <th>2</th>\n",
       "      <td>64592414</td>\n",
       "      <td>4</td>\n",
       "      <td>2004</td>\n",
       "      <td>9822</td>\n",
       "      <td>25239</td>\n",
       "      <td>7318</td>\n",
       "      <td>1411</td>\n",
       "      <td>35061</td>\n",
       "      <td>Декабрь</td>\n",
       "    </tr>\n",
       "    <tr>\n",
       "      <th>3</th>\n",
       "      <td>64592415</td>\n",
       "      <td>5</td>\n",
       "      <td>2005</td>\n",
       "      <td>10844</td>\n",
       "      <td>23597</td>\n",
       "      <td>6890</td>\n",
       "      <td>1531</td>\n",
       "      <td>34441</td>\n",
       "      <td>Декабрь</td>\n",
       "    </tr>\n",
       "    <tr>\n",
       "      <th>4</th>\n",
       "      <td>64592416</td>\n",
       "      <td>6</td>\n",
       "      <td>2006</td>\n",
       "      <td>11041</td>\n",
       "      <td>22928</td>\n",
       "      <td>6604</td>\n",
       "      <td>1671</td>\n",
       "      <td>33969</td>\n",
       "      <td>Декабрь</td>\n",
       "    </tr>\n",
       "  </tbody>\n",
       "</table>\n",
       "</div>"
      ],
      "text/plain": [
       "   global_id  ID  Year  UnemployedMen  UnemployedWomen  UnemployedYoung  \\\n",
       "0   39809862   1  2001           8896            25762             6696   \n",
       "1   64592413   3  2003           8679            24967             6226   \n",
       "2   64592414   4  2004           9822            25239             7318   \n",
       "3   64592415   5  2005          10844            23597             6890   \n",
       "4   64592416   6  2006          11041            22928             6604   \n",
       "\n",
       "   UnemployedDisabled  UnemployedTotal   Period  \n",
       "0                 824            34658  Декабрь  \n",
       "1                1155            33646  Декабрь  \n",
       "2                1411            35061  Декабрь  \n",
       "3                1531            34441  Декабрь  \n",
       "4                1671            33969  Декабрь  "
      ]
     },
     "execution_count": 22,
     "metadata": {},
     "output_type": "execute_result"
    }
   ],
   "source": [
    "data.head()"
   ]
  },
  {
   "cell_type": "markdown",
   "metadata": {},
   "source": [
    "# Задание\n",
    "Найдите, с какого года процент людей с ограниченными возможностями (UnemployedDisabled)\n",
    "\n",
    "среди всех безработных (UnemployedTotal) стал меньше 2%.\n",
    "Вопросы к этому заданию\n",
    "\n",
    "С какого года безработных инвалидов меньше 2% в Москве?"
   ]
  },
  {
   "cell_type": "code",
   "execution_count": 27,
   "metadata": {},
   "outputs": [
    {
     "data": {
      "text/html": [
       "<div>\n",
       "<style scoped>\n",
       "    .dataframe tbody tr th:only-of-type {\n",
       "        vertical-align: middle;\n",
       "    }\n",
       "\n",
       "    .dataframe tbody tr th {\n",
       "        vertical-align: top;\n",
       "    }\n",
       "\n",
       "    .dataframe thead th {\n",
       "        text-align: right;\n",
       "    }\n",
       "</style>\n",
       "<table border=\"1\" class=\"dataframe\">\n",
       "  <thead>\n",
       "    <tr style=\"text-align: right;\">\n",
       "      <th></th>\n",
       "      <th>global_id</th>\n",
       "      <th>ID</th>\n",
       "      <th>Year</th>\n",
       "      <th>UnemployedMen</th>\n",
       "      <th>UnemployedWomen</th>\n",
       "      <th>UnemployedYoung</th>\n",
       "      <th>UnemployedDisabled</th>\n",
       "      <th>UnemployedTotal</th>\n",
       "      <th>Period</th>\n",
       "    </tr>\n",
       "  </thead>\n",
       "  <tbody>\n",
       "    <tr>\n",
       "      <th>91</th>\n",
       "      <td>894075540</td>\n",
       "      <td>96</td>\n",
       "      <td>2018</td>\n",
       "      <td>10651</td>\n",
       "      <td>14043</td>\n",
       "      <td>2829</td>\n",
       "      <td>472</td>\n",
       "      <td>24694</td>\n",
       "      <td>Сентябрь</td>\n",
       "    </tr>\n",
       "    <tr>\n",
       "      <th>92</th>\n",
       "      <td>896740236</td>\n",
       "      <td>97</td>\n",
       "      <td>2018</td>\n",
       "      <td>10763</td>\n",
       "      <td>14375</td>\n",
       "      <td>2892</td>\n",
       "      <td>477</td>\n",
       "      <td>25138</td>\n",
       "      <td>Октябрь</td>\n",
       "    </tr>\n",
       "    <tr>\n",
       "      <th>93</th>\n",
       "      <td>904345746</td>\n",
       "      <td>98</td>\n",
       "      <td>2018</td>\n",
       "      <td>11080</td>\n",
       "      <td>14610</td>\n",
       "      <td>2911</td>\n",
       "      <td>467</td>\n",
       "      <td>25690</td>\n",
       "      <td>Ноябрь</td>\n",
       "    </tr>\n",
       "    <tr>\n",
       "      <th>94</th>\n",
       "      <td>909303094</td>\n",
       "      <td>99</td>\n",
       "      <td>2018</td>\n",
       "      <td>12063</td>\n",
       "      <td>15815</td>\n",
       "      <td>3077</td>\n",
       "      <td>527</td>\n",
       "      <td>27878</td>\n",
       "      <td>Декабрь</td>\n",
       "    </tr>\n",
       "    <tr>\n",
       "      <th>95</th>\n",
       "      <td>918869065</td>\n",
       "      <td>100</td>\n",
       "      <td>2019</td>\n",
       "      <td>12225</td>\n",
       "      <td>16078</td>\n",
       "      <td>2960</td>\n",
       "      <td>533</td>\n",
       "      <td>28303</td>\n",
       "      <td>Январь</td>\n",
       "    </tr>\n",
       "    <tr>\n",
       "      <th>96</th>\n",
       "      <td>918869066</td>\n",
       "      <td>101</td>\n",
       "      <td>2019</td>\n",
       "      <td>13123</td>\n",
       "      <td>16904</td>\n",
       "      <td>3103</td>\n",
       "      <td>575</td>\n",
       "      <td>30027</td>\n",
       "      <td>Февраль</td>\n",
       "    </tr>\n",
       "    <tr>\n",
       "      <th>97</th>\n",
       "      <td>918869067</td>\n",
       "      <td>102</td>\n",
       "      <td>2019</td>\n",
       "      <td>13433</td>\n",
       "      <td>17164</td>\n",
       "      <td>3102</td>\n",
       "      <td>593</td>\n",
       "      <td>30597</td>\n",
       "      <td>Март</td>\n",
       "    </tr>\n",
       "    <tr>\n",
       "      <th>98</th>\n",
       "      <td>926094627</td>\n",
       "      <td>103</td>\n",
       "      <td>2019</td>\n",
       "      <td>13803</td>\n",
       "      <td>17319</td>\n",
       "      <td>3060</td>\n",
       "      <td>593</td>\n",
       "      <td>31122</td>\n",
       "      <td>Апрель</td>\n",
       "    </tr>\n",
       "    <tr>\n",
       "      <th>99</th>\n",
       "      <td>933200250</td>\n",
       "      <td>104</td>\n",
       "      <td>2019</td>\n",
       "      <td>12818</td>\n",
       "      <td>16221</td>\n",
       "      <td>2711</td>\n",
       "      <td>577</td>\n",
       "      <td>29039</td>\n",
       "      <td>Май</td>\n",
       "    </tr>\n",
       "  </tbody>\n",
       "</table>\n",
       "</div>"
      ],
      "text/plain": [
       "    global_id   ID  Year  UnemployedMen  UnemployedWomen  UnemployedYoung  \\\n",
       "91  894075540   96  2018          10651            14043             2829   \n",
       "92  896740236   97  2018          10763            14375             2892   \n",
       "93  904345746   98  2018          11080            14610             2911   \n",
       "94  909303094   99  2018          12063            15815             3077   \n",
       "95  918869065  100  2019          12225            16078             2960   \n",
       "96  918869066  101  2019          13123            16904             3103   \n",
       "97  918869067  102  2019          13433            17164             3102   \n",
       "98  926094627  103  2019          13803            17319             3060   \n",
       "99  933200250  104  2019          12818            16221             2711   \n",
       "\n",
       "    UnemployedDisabled  UnemployedTotal    Period  \n",
       "91                 472            24694  Сентябрь  \n",
       "92                 477            25138   Октябрь  \n",
       "93                 467            25690    Ноябрь  \n",
       "94                 527            27878   Декабрь  \n",
       "95                 533            28303    Январь  \n",
       "96                 575            30027   Февраль  \n",
       "97                 593            30597      Март  \n",
       "98                 593            31122    Апрель  \n",
       "99                 577            29039       Май  "
      ]
     },
     "execution_count": 27,
     "metadata": {},
     "output_type": "execute_result"
    }
   ],
   "source": [
    "data[data['UnemployedDisabled']/data['UnemployedTotal'] < 0.02].sort_values(\"Year\", ascending=True)"
   ]
  },
  {
   "cell_type": "code",
   "execution_count": 30,
   "metadata": {},
   "outputs": [
    {
     "data": {
      "text/plain": [
       "2018"
      ]
     },
     "execution_count": 30,
     "metadata": {},
     "output_type": "execute_result"
    }
   ],
   "source": [
    "data[data['UnemployedDisabled']/data['UnemployedTotal'] < 0.02].Year.min()"
   ]
  },
  {
   "cell_type": "code",
   "execution_count": 32,
   "metadata": {},
   "outputs": [
    {
     "data": {
      "text/plain": [
       "<matplotlib.axes._subplots.AxesSubplot at 0x2b967aaf520>"
      ]
     },
     "execution_count": 32,
     "metadata": {},
     "output_type": "execute_result"
    },
    {
     "data": {
      "image/png": "[encoded data removed]",
      "text/plain": [
       "<Figure size 432x288 with 1 Axes>"
      ]
     },
     "metadata": {
      "needs_background": "light"
     },
     "output_type": "display_data"
    }
   ],
   "source": [
    "data['UnemployedDisabled'].plot()"
   ]
  },
  {
   "cell_type": "code",
   "execution_count": null,
   "metadata": {},
   "outputs": [],
   "source": []
  }
 ],
 "metadata": {
  "kernelspec": {
   "display_name": "Python 3",
   "language": "python",
   "name": "python3"
  },
  "language_info": {
   "codemirror_mode": {
    "name": "ipython",
    "version": 3
   },
   "file_extension": ".py",
   "mimetype": "text/x-python",
   "name": "python",
   "nbconvert_exporter": "python",
   "pygments_lexer": "ipython3",
   "version": "3.8.3"
  }
 },
 "nbformat": 4,
 "nbformat_minor": 4
}
